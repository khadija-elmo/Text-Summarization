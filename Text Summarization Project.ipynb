{
 "cells": [
  {
   "cell_type": "markdown",
   "id": "136d9de9",
   "metadata": {},
   "source": [
    "# Extractive Text Summarization"
   ]
  },
  {
   "cell_type": "markdown",
   "id": "008c55bf",
   "metadata": {},
   "source": [
    "## Using Sumy"
   ]
  },
  {
   "cell_type": "markdown",
   "id": "bdcda6f5",
   "metadata": {},
   "source": [
    "Ne pensez-vous pas qu'il serait très simple et bénéfique d'avoir une bibliothèque, qui va nous permettre d'effectuer des résumés via plusieurs algorithmes ?\n",
    "Heureusement, nous avons déjà la bibliothèque sumy pour cela !\n",
    "\n",
    "**Sumy** libraray nous fournit plusieurs algorithmes pour implémenter la synthèse de texte existant sous format de document ou bien en pages HTML. Il nous faut juste d’importer simplement un algorithme de notre choix plutôt que de le coder nous-même.\n"
   ]
  },
  {
   "cell_type": "code",
   "execution_count": 2,
   "id": "b97f5aaa",
   "metadata": {
    "collapsed": true
   },
   "outputs": [
    {
     "name": "stdout",
     "output_type": "stream",
     "text": [
      "Requirement already satisfied: sumy in c:\\programdata\\anaconda3\\lib\\site-packages (0.9.0)\n",
      "Requirement already satisfied: breadability>=0.1.20 in c:\\programdata\\anaconda3\\lib\\site-packages (from sumy) (0.1.20)\n",
      "Requirement already satisfied: nltk>=3.0.2 in c:\\programdata\\anaconda3\\lib\\site-packages (from sumy) (3.6.1)\n",
      "Requirement already satisfied: docopt<0.7,>=0.6.1 in c:\\programdata\\anaconda3\\lib\\site-packages (from sumy) (0.6.2)\n",
      "Requirement already satisfied: requests>=2.7.0 in c:\\programdata\\anaconda3\\lib\\site-packages (from sumy) (2.25.1)\n",
      "Requirement already satisfied: pycountry>=18.2.23 in c:\\programdata\\anaconda3\\lib\\site-packages (from sumy) (20.7.3)\n",
      "Requirement already satisfied: lxml>=2.0 in c:\\programdata\\anaconda3\\lib\\site-packages (from breadability>=0.1.20->sumy) (4.6.3)\n",
      "Requirement already satisfied: chardet in c:\\programdata\\anaconda3\\lib\\site-packages (from breadability>=0.1.20->sumy) (4.0.0)\n",
      "Requirement already satisfied: regex in c:\\programdata\\anaconda3\\lib\\site-packages (from nltk>=3.0.2->sumy) (2021.4.4)\n",
      "Requirement already satisfied: click in c:\\programdata\\anaconda3\\lib\\site-packages (from nltk>=3.0.2->sumy) (7.1.2)\n",
      "Requirement already satisfied: tqdm in c:\\programdata\\anaconda3\\lib\\site-packages (from nltk>=3.0.2->sumy) (4.59.0)\n",
      "Requirement already satisfied: joblib in c:\\programdata\\anaconda3\\lib\\site-packages (from nltk>=3.0.2->sumy) (1.0.1)\n",
      "Requirement already satisfied: certifi>=2017.4.17 in c:\\programdata\\anaconda3\\lib\\site-packages (from requests>=2.7.0->sumy) (2020.12.5)\n",
      "Requirement already satisfied: idna<3,>=2.5 in c:\\programdata\\anaconda3\\lib\\site-packages (from requests>=2.7.0->sumy) (2.10)\n",
      "Requirement already satisfied: urllib3<1.27,>=1.21.1 in c:\\programdata\\anaconda3\\lib\\site-packages (from requests>=2.7.0->sumy) (1.26.4)\n"
     ]
    }
   ],
   "source": [
    "''' Extractive Text Summarization with the Sumy(Sumy - module for automatic summarization of text documents and HTML pages.) '''\n",
    "!pip install sumy"
   ]
  },
  {
   "cell_type": "code",
   "execution_count": 3,
   "id": "187b99a6",
   "metadata": {},
   "outputs": [],
   "source": [
    "import sumy"
   ]
  },
  {
   "cell_type": "code",
   "execution_count": 5,
   "id": "13bd17ac",
   "metadata": {
    "collapsed": true
   },
   "outputs": [
    {
     "data": {
      "text/plain": [
       "'Junk foods taste good that’s why it is mostly liked by everyone of any age group especially kids and school going children. They generally ask for the junk food daily because they have been trend so by their parents from the childhood. They never have been discussed by their parents about the harmful effects of junk foods over health. According to the research by scientists, it has been found that junk foods have negative effects on the health in many ways. They are generally fried food found in the market in the packets. They become high in calories, high in cholesterol, low in healthy nutrients, high in sodium mineral, high in sugar, starch, unhealthy fat, lack of protein and lack of dietary fibers. Processed and junk foods are the means of rapid and unhealthy weight gain and negatively impact the whole body throughout the life. It makes able a person to gain excessive weight which is called as obesity. Junk foods tastes good and looks good however do not fulfil the healthy calorie requirement of the body. Some of the foods like french fries, fried foods, pizza, burgers, candy, soft drinks, baked goods, ice cream, cookies, etc are the example of high-sugar and high-fat containing foods. It is found according to the Centres for Disease Control and Prevention that Kids and children eating junk food are more prone to the type-2 diabetes. In type-2 diabetes our body become unable to regulate blood sugar level. Risk of getting this disease is increasing as one become more obese or overweight. It increases the risk of kidney failure. Eating junk food daily lead us to the nutritional deficiencies in the body because it is lack of essential nutrients, vitamins, iron, minerals and dietary fibers. It increases risk of cardiovascular diseases because it is rich in saturated fat, sodium and bad cholesterol. High sodium and bad cholesterol diet increases blood pressure and overloads the heart functioning. One who like junk food develop more risk to put on extra weight and become fatter and unhealthier. Junk foods contain high level carbohydrate which spike blood sugar level and make person more lethargic, sleepy and less active and alert. Reflexes and senses of the people eating this food become dull day by day thus they live more sedentary life. Junk foods are the source of constipation and other disease like diabetes, heart ailments, clogged arteries, heart attack, strokes, etc because of being poor in nutrition. Junk food is the easiest way to gain unhealthy weight. The amount of fats and sugar in the food makes you gain weight rapidly. However, this is not a healthy weight. It is more of fats and cholesterol which will have a harmful impact on your health. Junk food is also one of the main reasons for the increase in obesity nowadays.This food only looks and tastes good, other than that, it has no positive points. The amount of calorie your body requires to stay fit is not fulfilled by this food. For instance, foods like French fries, burgers, candy, and cookies, all have high amounts of sugar and fats. Therefore, this can result in long-term illnesses like diabetes and high blood pressure. This may also result in kidney failure. Above all, you can get various nutritional deficiencies when you don’t consume the essential nutrients, vitamins, minerals and more. You become prone to cardiovascular diseases due to the consumption of bad cholesterol and fat plus sodium. In other words, all this interferes with the functioning of your heart. Furthermore, junk food contains a higher level of carbohydrates. It will instantly spike your blood sugar levels. This will result in lethargy, inactiveness, and sleepiness. A person reflex becomes dull overtime and they lead an inactive life. To make things worse, junk food also clogs your arteries and increases the risk of a heart attack. Therefore, it must be avoided at the first instance to save your life from becoming ruined.The main problem with junk food is that people don’t realize its ill effects now. When the time comes, it is too late. Most importantly, the issue is that it does not impact you instantly. It works on your overtime; you will face the consequences sooner or later. Thus, it is better to stop now.You can avoid junk food by encouraging your children from an early age to eat green vegetables. Their taste buds must be developed as such that they find healthy food tasty. Moreover, try to mix things up. Do not serve the same green vegetable daily in the same style. Incorporate different types of healthy food in their diet following different recipes. This will help them to try foods at home rather than being attracted to junk food.In short, do not deprive them completely of it as that will not help. Children will find one way or the other to have it. Make sure you give them junk food in limited quantities and at healthy periods of time.'"
      ]
     },
     "execution_count": 5,
     "metadata": {},
     "output_type": "execute_result"
    }
   ],
   "source": [
    "original_text = 'Junk foods taste good that’s why it is mostly liked by everyone of any age group especially kids and school going children. They generally ask for the junk food daily because they have been trend so by their parents from the childhood. They never have been discussed by their parents about the harmful effects of junk foods over health. According to the research by scientists, it has been found that junk foods have negative effects on the health in many ways. They are generally fried food found in the market in the packets. They become high in calories, high in cholesterol, low in healthy nutrients, high in sodium mineral, high in sugar, starch, unhealthy fat, lack of protein and lack of dietary fibers. Processed and junk foods are the means of rapid and unhealthy weight gain and negatively impact the whole body throughout the life. It makes able a person to gain excessive weight which is called as obesity. Junk foods tastes good and looks good however do not fulfil the healthy calorie requirement of the body. Some of the foods like french fries, fried foods, pizza, burgers, candy, soft drinks, baked goods, ice cream, cookies, etc are the example of high-sugar and high-fat containing foods. It is found according to the Centres for Disease Control and Prevention that Kids and children eating junk food are more prone to the type-2 diabetes. In type-2 diabetes our body become unable to regulate blood sugar level. Risk of getting this disease is increasing as one become more obese or overweight. It increases the risk of kidney failure. Eating junk food daily lead us to the nutritional deficiencies in the body because it is lack of essential nutrients, vitamins, iron, minerals and dietary fibers. It increases risk of cardiovascular diseases because it is rich in saturated fat, sodium and bad cholesterol. High sodium and bad cholesterol diet increases blood pressure and overloads the heart functioning. One who like junk food develop more risk to put on extra weight and become fatter and unhealthier. Junk foods contain high level carbohydrate which spike blood sugar level and make person more lethargic, sleepy and less active and alert. Reflexes and senses of the people eating this food become dull day by day thus they live more sedentary life. Junk foods are the source of constipation and other disease like diabetes, heart ailments, clogged arteries, heart attack, strokes, etc because of being poor in nutrition. Junk food is the easiest way to gain unhealthy weight. The amount of fats and sugar in the food makes you gain weight rapidly. However, this is not a healthy weight. It is more of fats and cholesterol which will have a harmful impact on your health. Junk food is also one of the main reasons for the increase in obesity nowadays.This food only looks and tastes good, other than that, it has no positive points. The amount of calorie your body requires to stay fit is not fulfilled by this food. For instance, foods like French fries, burgers, candy, and cookies, all have high amounts of sugar and fats. Therefore, this can result in long-term illnesses like diabetes and high blood pressure. This may also result in kidney failure. Above all, you can get various nutritional deficiencies when you don’t consume the essential nutrients, vitamins, minerals and more. You become prone to cardiovascular diseases due to the consumption of bad cholesterol and fat plus sodium. In other words, all this interferes with the functioning of your heart. Furthermore, junk food contains a higher level of carbohydrates. It will instantly spike your blood sugar levels. This will result in lethargy, inactiveness, and sleepiness. A person reflex becomes dull overtime and they lead an inactive life. To make things worse, junk food also clogs your arteries and increases the risk of a heart attack. Therefore, it must be avoided at the first instance to save your life from becoming ruined.The main problem with junk food is that people don’t realize its ill effects now. When the time comes, it is too late. Most importantly, the issue is that it does not impact you instantly. It works on your overtime; you will face the consequences sooner or later. Thus, it is better to stop now.You can avoid junk food by encouraging your children from an early age to eat green vegetables. Their taste buds must be developed as such that they find healthy food tasty. Moreover, try to mix things up. Do not serve the same green vegetable daily in the same style. Incorporate different types of healthy food in their diet following different recipes. This will help them to try foods at home rather than being attracted to junk food.In short, do not deprive them completely of it as that will not help. Children will find one way or the other to have it. Make sure you give them junk food in limited quantities and at healthy periods of time.'\n",
    "original_text"
   ]
  },
  {
   "cell_type": "markdown",
   "id": "f9e031c5",
   "metadata": {},
   "source": [
    "### Lex Rank "
   ]
  },
  {
   "cell_type": "markdown",
   "id": "1b4ae53f",
   "metadata": {},
   "source": [
    "LexRank est une approche non supervisés basée sur des graphes pour effectuer une synthèse automatique de texte. La notation des phrases se fait à l'aide de la méthode des graphes. <code>LexRankSummarizer</code> est utilisé pour calculer l'importance des phrases sur la base du concept de centralité des vecteurs propres dans une représentation graphique des phrases.\n",
    "\n",
    "D’une façon plus simple, si une phrase est similaire à de nombreuses autres phrases du texte alors elle a une forte probabilité d'être importante. Et lorsqu’une phrase particulière est recommandée par d'autres phrases similaires elle est donc classée plus haut.\n",
    "Et plus le rang est élevé, plus la priorité d'être inclus dans le texte résumé s’augmente.\n"
   ]
  },
  {
   "cell_type": "code",
   "execution_count": 8,
   "id": "7b003ad0",
   "metadata": {},
   "outputs": [],
   "source": [
    "# Importing the parser and tokenizer\n",
    "from sumy.parsers.plaintext import PlaintextParser\n",
    "from sumy.nlp.tokenizers import Tokenizer"
   ]
  },
  {
   "cell_type": "code",
   "execution_count": 9,
   "id": "aa42860b",
   "metadata": {},
   "outputs": [],
   "source": [
    "# Import the LexRank summarizer\n",
    "from sumy.summarizers.lex_rank import LexRankSummarizer"
   ]
  },
  {
   "cell_type": "markdown",
   "id": "4aeb4f6d",
   "metadata": {},
   "source": [
    "L'analyse syntaxique(**Parsing**) est le processus d'analyse d'un texte composé d'une séquence de jetons(**Tokens**) pour déterminer sa structure grammaticale par rapport à une grammaire formelle donnée (plus ou moins). L'analyseur(**The Parser**) construit ensuite une structure de données basée sur les jetons."
   ]
  },
  {
   "cell_type": "code",
   "execution_count": 10,
   "id": "02993e7f",
   "metadata": {},
   "outputs": [],
   "source": [
    "# Initializing the parser\n",
    "my_parser = PlaintextParser.from_string(original_text,Tokenizer('english'))"
   ]
  },
  {
   "cell_type": "code",
   "execution_count": 11,
   "id": "891df27b",
   "metadata": {},
   "outputs": [
    {
     "name": "stdout",
     "output_type": "stream",
     "text": [
      "It is found according to the Centres for Disease Control and Prevention that Kids and children eating junk food are more prone to the type-2 diabetes.\n",
      "It is more of fats and cholesterol which will have a harmful impact on your health.\n",
      "Children will find one way or the other to have it.\n"
     ]
    }
   ],
   "source": [
    "# Creating a summary of 3 sentences.\n",
    "lex_rank_summarizer = LexRankSummarizer()\n",
    "lexrank_summary = lex_rank_summarizer(my_parser.document,sentences_count=3)\n",
    "\n",
    "# Printing the summary\n",
    "for sentence in lexrank_summary:\n",
    "    print(sentence)"
   ]
  },
  {
   "cell_type": "markdown",
   "id": "b0277be6",
   "metadata": {},
   "source": [
    "### LSA ( Latent Semantic Analysis )"
   ]
  },
  {
   "cell_type": "markdown",
   "id": "fe77fcab",
   "metadata": {},
   "source": [
    "**LSA** (**Latent Semantic Analysis**) également connu sous le nom de **LSI** (**Latent Semantic Index**) LSA utilise un modèle de sac de mots (Bag of Words BoW), qui se traduit par une matrice terme-document (occurrence de termes dans un document). Les lignes représentent les termes et les colonnes représentent les documents. **LSA** apprend les sujets latents en effectuant une décomposition matricielle sur la matrice document-terme à l'aide de la décomposition en valeurs singulières. "
   ]
  },
  {
   "cell_type": "code",
   "execution_count": 12,
   "id": "81fd2ae0",
   "metadata": {},
   "outputs": [],
   "source": [
    "# Import the summarizer\n",
    "from sumy.summarizers.lsa import LsaSummarizer"
   ]
  },
  {
   "cell_type": "code",
   "execution_count": 13,
   "id": "c3e793d6",
   "metadata": {},
   "outputs": [],
   "source": [
    "# Parsing the text string using PlaintextParser\n",
    "from sumy.nlp.tokenizers import Tokenizer\n",
    "from sumy.parsers.plaintext import PlaintextParser\n",
    "parser=PlaintextParser.from_string(original_text,Tokenizer('english'))"
   ]
  },
  {
   "cell_type": "code",
   "execution_count": 14,
   "id": "111931f2",
   "metadata": {},
   "outputs": [
    {
     "name": "stdout",
     "output_type": "stream",
     "text": [
      "Junk foods taste good that’s why it is mostly liked by everyone of any age group especially kids and school going children.\n",
      "To make things worse, junk food also clogs your arteries and increases the risk of a heart attack.\n",
      "Therefore, it must be avoided at the first instance to save your life from becoming ruined.The main problem with junk food is that people don’t realize its ill effects now.\n"
     ]
    }
   ],
   "source": [
    "# creating the summarizer\n",
    "lsa_summarizer=LsaSummarizer()\n",
    "lsa_summary= lsa_summarizer(parser.document,3)\n",
    "\n",
    "# Printing the summary\n",
    "for sentence in lsa_summary:\n",
    "    print(sentence)"
   ]
  },
  {
   "cell_type": "markdown",
   "id": "c291c52f",
   "metadata": {},
   "source": [
    "### Luhn"
   ]
  },
  {
   "cell_type": "markdown",
   "id": "1e445cb4",
   "metadata": {},
   "source": [
    "L'approche de l'algorithme de résumé <code>Luhn</code> est basée sur **TF-IDF** (Term Frequency-Inverse Document Frequency). Il est utile lorsque les mots très peu fréquents ainsi que les mots très fréquents (stopwords) ne sont pas tous les deux significatifs.\n",
    "On se basons sur ça, le scoring des phrases est effectuée et les phrases les mieux classées parviennent au résumé.\n"
   ]
  },
  {
   "cell_type": "code",
   "execution_count": 15,
   "id": "bce71620",
   "metadata": {},
   "outputs": [],
   "source": [
    "# Import the summarizer\n",
    "from sumy.summarizers.luhn import LuhnSummarizer"
   ]
  },
  {
   "cell_type": "code",
   "execution_count": 16,
   "id": "297eae06",
   "metadata": {},
   "outputs": [],
   "source": [
    "# Creating the parser\n",
    "from sumy.nlp.tokenizers import Tokenizer\n",
    "from sumy.parsers.plaintext import PlaintextParser\n",
    "parser=PlaintextParser.from_string(original_text,Tokenizer('english'))"
   ]
  },
  {
   "cell_type": "code",
   "execution_count": 17,
   "id": "4146296b",
   "metadata": {},
   "outputs": [
    {
     "name": "stdout",
     "output_type": "stream",
     "text": [
      "They become high in calories, high in cholesterol, low in healthy nutrients, high in sodium mineral, high in sugar, starch, unhealthy fat, lack of protein and lack of dietary fibers.\n",
      "It is found according to the Centres for Disease Control and Prevention that Kids and children eating junk food are more prone to the type-2 diabetes.\n",
      "Eating junk food daily lead us to the nutritional deficiencies in the body because it is lack of essential nutrients, vitamins, iron, minerals and dietary fibers.\n"
     ]
    }
   ],
   "source": [
    "# Creating the summarizer\n",
    "luhn_summarizer=LuhnSummarizer()\n",
    "luhn_summary=luhn_summarizer(parser.document,sentences_count=3)\n",
    "\n",
    "# Printing the summary\n",
    "for sentence in luhn_summary:\n",
    "    print(sentence)"
   ]
  },
  {
   "cell_type": "markdown",
   "id": "3fd0d001",
   "metadata": {},
   "source": [
    "Et comme vous pouvez remarquez si vous essayez de lire les precedents resumes que ce dernier obtenu par <code>LuhnSummarizer()</code> est bien formee aussi quelle a plus de sens."
   ]
  },
  {
   "cell_type": "markdown",
   "id": "a8d9eb80",
   "metadata": {},
   "source": [
    "### KL-Sum "
   ]
  },
  {
   "cell_type": "markdown",
   "id": "69bae987",
   "metadata": {},
   "source": [
    "Algorithme de somme KL (**Kullback-Lieber (KL) Sum**) pour la synthèse de texte qui se concentre sur la minimisation du vocabulaire résumé en vérifiant la divergence par rapport au vocabulaire d'entrée.\n",
    "\n",
    "Il s'agit d'un algorithme de sélection de phrases où une longueur cible pour le résumé est fixée appelée (L words). Il sélectionne des phrases en fonction de la similitude de la distribution des mots avec le texte original. Il vise à abaisser les critères de divergence KL. Il utilise une approche d'optimisation gourmande et continue à ajouter des phrases jusqu'à ce que la divergence KL diminue.\n"
   ]
  },
  {
   "cell_type": "code",
   "execution_count": 18,
   "id": "9944a86b",
   "metadata": {},
   "outputs": [],
   "source": [
    "#importing the KL Summarizer\n",
    "from sumy.summarizers.kl import KLSummarizer"
   ]
  },
  {
   "cell_type": "code",
   "execution_count": 19,
   "id": "dbe2840c",
   "metadata": {},
   "outputs": [],
   "source": [
    "# Creating the parser\n",
    "from sumy.nlp.tokenizers import Tokenizer\n",
    "from sumy.parsers.plaintext import PlaintextParser\n",
    "parser=PlaintextParser.from_string(original_text,Tokenizer('english'))"
   ]
  },
  {
   "cell_type": "code",
   "execution_count": 20,
   "id": "fcdfba91",
   "metadata": {},
   "outputs": [
    {
     "name": "stdout",
     "output_type": "stream",
     "text": [
      "It is found according to the Centres for Disease Control and Prevention that Kids and children eating junk food are more prone to the type-2 diabetes.\n",
      "High sodium and bad cholesterol diet increases blood pressure and overloads the heart functioning.\n",
      "Junk food is the easiest way to gain unhealthy weight.\n"
     ]
    }
   ],
   "source": [
    "# Instantiating the KLSummarizer\n",
    "kl_summarizer=KLSummarizer()\n",
    "kl_summary=kl_summarizer(parser.document,sentences_count=3)\n",
    "\n",
    "# Printing the summary\n",
    "for sentence in kl_summary:\n",
    "    print(sentence)"
   ]
  },
  {
   "cell_type": "markdown",
   "id": "01c5c018",
   "metadata": {},
   "source": [
    "Nous pouvons remarquer que ce résumé est le plus court par rapport aux autres précédents résumés, et aussi il est mieux structure et les phrase sont bien choisie. "
   ]
  },
  {
   "cell_type": "markdown",
   "id": "49329614",
   "metadata": {},
   "source": [
    "# Abstractive Text Summarization"
   ]
  },
  {
   "cell_type": "markdown",
   "id": "185c9b17",
   "metadata": {},
   "source": [
    "Un moyen simple et efficace consiste à utiliser le **Haggingface’s Transformers Library**.\n",
    "Huggingface prend en charge des modèles de pointe pour mettre en œuvre des tâches telles que la synthèse, la classification, etc. Et voila certains modèles courants : GPT-2, GPT-3, BERT, OpenAI, GPT, T5.\n",
    "Une des fonctionnalités intéressantes de Transformers est qu'ils fournissent aux modèles PreTrained des poids (weights) qui peuvent être facilement instanciés via la méthode <code>from_pretrained()</code>.\n"
   ]
  },
  {
   "cell_type": "code",
   "execution_count": 21,
   "id": "c622599f",
   "metadata": {
    "collapsed": true
   },
   "outputs": [
    {
     "name": "stdout",
     "output_type": "stream",
     "text": [
      "Requirement already satisfied: transformers in c:\\programdata\\anaconda3\\lib\\site-packages (4.12.5)\n",
      "Requirement already satisfied: pyyaml>=5.1 in c:\\programdata\\anaconda3\\lib\\site-packages (from transformers) (5.4.1)\n",
      "Requirement already satisfied: sacremoses in c:\\programdata\\anaconda3\\lib\\site-packages (from transformers) (0.0.46)\n",
      "Requirement already satisfied: numpy>=1.17 in c:\\programdata\\anaconda3\\lib\\site-packages (from transformers) (1.20.1)\n",
      "Requirement already satisfied: huggingface-hub<1.0,>=0.1.0 in c:\\programdata\\anaconda3\\lib\\site-packages (from transformers) (0.1.2)\n",
      "Requirement already satisfied: requests in c:\\programdata\\anaconda3\\lib\\site-packages (from transformers) (2.25.1)\n",
      "Requirement already satisfied: regex!=2019.12.17 in c:\\programdata\\anaconda3\\lib\\site-packages (from transformers) (2021.4.4)\n",
      "Requirement already satisfied: tqdm>=4.27 in c:\\programdata\\anaconda3\\lib\\site-packages (from transformers) (4.59.0)\n",
      "Requirement already satisfied: tokenizers<0.11,>=0.10.1 in c:\\programdata\\anaconda3\\lib\\site-packages (from transformers) (0.10.3)\n",
      "Requirement already satisfied: packaging>=20.0 in c:\\programdata\\anaconda3\\lib\\site-packages (from transformers) (20.9)\n",
      "Requirement already satisfied: filelock in c:\\programdata\\anaconda3\\lib\\site-packages (from transformers) (3.0.12)\n",
      "Requirement already satisfied: typing-extensions>=3.7.4.3 in c:\\programdata\\anaconda3\\lib\\site-packages (from huggingface-hub<1.0,>=0.1.0->transformers) (3.7.4.3)\n",
      "Requirement already satisfied: pyparsing>=2.0.2 in c:\\programdata\\anaconda3\\lib\\site-packages (from packaging>=20.0->transformers) (2.4.7)\n",
      "Requirement already satisfied: urllib3<1.27,>=1.21.1 in c:\\programdata\\anaconda3\\lib\\site-packages (from requests->transformers) (1.26.4)\n",
      "Requirement already satisfied: idna<3,>=2.5 in c:\\programdata\\anaconda3\\lib\\site-packages (from requests->transformers) (2.10)\n",
      "Requirement already satisfied: chardet<5,>=3.0.2 in c:\\programdata\\anaconda3\\lib\\site-packages (from requests->transformers) (4.0.0)\n",
      "Requirement already satisfied: certifi>=2017.4.17 in c:\\programdata\\anaconda3\\lib\\site-packages (from requests->transformers) (2020.12.5)\n",
      "Requirement already satisfied: joblib in c:\\programdata\\anaconda3\\lib\\site-packages (from sacremoses->transformers) (1.0.1)\n",
      "Requirement already satisfied: click in c:\\programdata\\anaconda3\\lib\\site-packages (from sacremoses->transformers) (7.1.2)\n",
      "Requirement already satisfied: six in c:\\programdata\\anaconda3\\lib\\site-packages (from sacremoses->transformers) (1.15.0)\n"
     ]
    }
   ],
   "source": [
    "''' Abstractive Text Summarization with the Huggingface’s transformers library. '''\n",
    "!pip install transformers"
   ]
  },
  {
   "cell_type": "markdown",
   "id": "9f7d1375",
   "metadata": {},
   "source": [
    "## Summarization with T5 Transformers"
   ]
  },
  {
   "cell_type": "markdown",
   "id": "b387588d",
   "metadata": {},
   "source": [
    "**T5** est un modèle d'encodeur-décodeur pré-entraîné sur un mélange multi-tâches conçus aux tâches non supervisées et supervisées, et pour lequel chaque tâche est convertie en un format texte-à-texte. \n",
    "**T5** fonctionne bien sur une variété de tâches prêtes à l'emploi en ajoutant un préfixe différent à l'entrée correspondant à chaque tâche, par exemple, pour la traduction : traduire l'anglais vers l'allemand…, pour le résumé : summarize…, etc.\n",
    "Il est formé en utilisant le **teacher forcing** ou (forçage des enseignants). Cela signifie que pour l'entraînement, nous avons toujours besoin d'une séquence d'entrée et d'une séquence cible correspondante. La séquence d'entrée est transmise au modèle à l'aide de input_ids. La séquence cible est décalée vers la droite, c'est-à-dire précédée d'un (token) jeton de séquence de démarrage et transmise au décodeur à l'aide de decoder_input_ids. Dans le style de teacher forcing, la séquence cible est ensuite ajoutée par le token (jeton) EOS et correspond aux étiquettes. Le jeton PAD est ici utilisé comme jeton de séquence de démarrage. T5 peut être entraîné / affiné à la fois de manière supervisée et non supervisée.\n",
    "On peut utiliser <code>T5ForConditionalGeneration</code> (ou la variante Tensorflow/Flax), qui inclut la tête de modélisation du langage au-dessus du décodeur.\n"
   ]
  },
  {
   "cell_type": "code",
   "execution_count": 22,
   "id": "ec6162b1",
   "metadata": {},
   "outputs": [],
   "source": [
    "# Importing requirements\n",
    "from transformers import T5Tokenizer, T5Config, T5ForConditionalGeneration"
   ]
  },
  {
   "cell_type": "code",
   "execution_count": 23,
   "id": "1bfe4896",
   "metadata": {},
   "outputs": [],
   "source": [
    "''' In This part I was in need to install the tensorflow and pytorch Library  '''\n",
    "# Instantiating the model and tokenizer\n",
    "my_model = T5ForConditionalGeneration.from_pretrained('t5-small')"
   ]
  },
  {
   "cell_type": "code",
   "execution_count": 24,
   "id": "87be3786",
   "metadata": {},
   "outputs": [
    {
     "name": "stdout",
     "output_type": "stream",
     "text": [
      "Requirement already satisfied: sentencepiece in c:\\programdata\\anaconda3\\lib\\site-packages (0.1.96)\n"
     ]
    }
   ],
   "source": [
    "!pip install sentencepiece"
   ]
  },
  {
   "cell_type": "code",
   "execution_count": 25,
   "id": "ccd8ee31",
   "metadata": {},
   "outputs": [],
   "source": [
    "tokenizer = T5Tokenizer.from_pretrained('t5-small')"
   ]
  },
  {
   "cell_type": "code",
   "execution_count": 26,
   "id": "1743ed6b",
   "metadata": {
    "collapsed": true
   },
   "outputs": [
    {
     "data": {
      "text/plain": [
       "'summarize:Junk foods taste good that’s why it is mostly liked by everyone of any age group especially kids and school going children. They generally ask for the junk food daily because they have been trend so by their parents from the childhood. They never have been discussed by their parents about the harmful effects of junk foods over health. According to the research by scientists, it has been found that junk foods have negative effects on the health in many ways. They are generally fried food found in the market in the packets. They become high in calories, high in cholesterol, low in healthy nutrients, high in sodium mineral, high in sugar, starch, unhealthy fat, lack of protein and lack of dietary fibers. Processed and junk foods are the means of rapid and unhealthy weight gain and negatively impact the whole body throughout the life. It makes able a person to gain excessive weight which is called as obesity. Junk foods tastes good and looks good however do not fulfil the healthy calorie requirement of the body. Some of the foods like french fries, fried foods, pizza, burgers, candy, soft drinks, baked goods, ice cream, cookies, etc are the example of high-sugar and high-fat containing foods. It is found according to the Centres for Disease Control and Prevention that Kids and children eating junk food are more prone to the type-2 diabetes. In type-2 diabetes our body become unable to regulate blood sugar level. Risk of getting this disease is increasing as one become more obese or overweight. It increases the risk of kidney failure. Eating junk food daily lead us to the nutritional deficiencies in the body because it is lack of essential nutrients, vitamins, iron, minerals and dietary fibers. It increases risk of cardiovascular diseases because it is rich in saturated fat, sodium and bad cholesterol. High sodium and bad cholesterol diet increases blood pressure and overloads the heart functioning. One who like junk food develop more risk to put on extra weight and become fatter and unhealthier. Junk foods contain high level carbohydrate which spike blood sugar level and make person more lethargic, sleepy and less active and alert. Reflexes and senses of the people eating this food become dull day by day thus they live more sedentary life. Junk foods are the source of constipation and other disease like diabetes, heart ailments, clogged arteries, heart attack, strokes, etc because of being poor in nutrition. Junk food is the easiest way to gain unhealthy weight. The amount of fats and sugar in the food makes you gain weight rapidly. However, this is not a healthy weight. It is more of fats and cholesterol which will have a harmful impact on your health. Junk food is also one of the main reasons for the increase in obesity nowadays.This food only looks and tastes good, other than that, it has no positive points. The amount of calorie your body requires to stay fit is not fulfilled by this food. For instance, foods like French fries, burgers, candy, and cookies, all have high amounts of sugar and fats. Therefore, this can result in long-term illnesses like diabetes and high blood pressure. This may also result in kidney failure. Above all, you can get various nutritional deficiencies when you don’t consume the essential nutrients, vitamins, minerals and more. You become prone to cardiovascular diseases due to the consumption of bad cholesterol and fat plus sodium. In other words, all this interferes with the functioning of your heart. Furthermore, junk food contains a higher level of carbohydrates. It will instantly spike your blood sugar levels. This will result in lethargy, inactiveness, and sleepiness. A person reflex becomes dull overtime and they lead an inactive life. To make things worse, junk food also clogs your arteries and increases the risk of a heart attack. Therefore, it must be avoided at the first instance to save your life from becoming ruined.The main problem with junk food is that people don’t realize its ill effects now. When the time comes, it is too late. Most importantly, the issue is that it does not impact you instantly. It works on your overtime; you will face the consequences sooner or later. Thus, it is better to stop now.You can avoid junk food by encouraging your children from an early age to eat green vegetables. Their taste buds must be developed as such that they find healthy food tasty. Moreover, try to mix things up. Do not serve the same green vegetable daily in the same style. Incorporate different types of healthy food in their diet following different recipes. This will help them to try foods at home rather than being attracted to junk food.In short, do not deprive them completely of it as that will not help. Children will find one way or the other to have it. Make sure you give them junk food in limited quantities and at healthy periods of time.'"
      ]
     },
     "execution_count": 26,
     "metadata": {},
     "output_type": "execute_result"
    }
   ],
   "source": [
    "# Concatenating the word \"summarize:\" to raw text\n",
    "text = \"summarize:\" + original_text\n",
    "text"
   ]
  },
  {
   "cell_type": "code",
   "execution_count": 27,
   "id": "864b862e",
   "metadata": {},
   "outputs": [
    {
     "name": "stderr",
     "output_type": "stream",
     "text": [
      "Truncation was not explicitly activated but `max_length` is provided a specific value, please use `truncation=True` to explicitly truncate examples to max length. Defaulting to 'longest_first' truncation strategy. If you encode pairs of sequences (GLUE-style) with the tokenizer you can select this strategy more precisely by providing a specific strategy to `truncation`.\n"
     ]
    }
   ],
   "source": [
    "# encoding the input text\n",
    "input_ids = tokenizer.encode(text, return_tensors='pt', max_length=512)"
   ]
  },
  {
   "cell_type": "code",
   "execution_count": 28,
   "id": "9f25ce8b",
   "metadata": {},
   "outputs": [
    {
     "data": {
      "text/plain": [
       "tensor([[    0, 11797,  4371,    33,     8,   598,    13,  3607,    11, 23363,\n",
       "          1293,  2485,     3,     5,    79,   582,   306,    16, 10004,     6]])"
      ]
     },
     "execution_count": 28,
     "metadata": {},
     "output_type": "execute_result"
    }
   ],
   "source": [
    "# Generating summary ids\n",
    "summary_ids = my_model.generate(input_ids)\n",
    "summary_ids"
   ]
  },
  {
   "cell_type": "code",
   "execution_count": 29,
   "id": "b86e954c",
   "metadata": {},
   "outputs": [
    {
     "name": "stdout",
     "output_type": "stream",
     "text": [
      "<pad> junk foods are the means of rapid and unhealthy weight gain. they become high in calories,\n"
     ]
    }
   ],
   "source": [
    "# Decoding the tensor and printing the summary.\n",
    "t5_summary = tokenizer.decode(summary_ids[0])\n",
    "print(t5_summary)"
   ]
  },
  {
   "cell_type": "markdown",
   "id": "0cf67d28",
   "metadata": {},
   "source": [
    "## Text Summarization with BART Transformers"
   ]
  },
  {
   "cell_type": "markdown",
   "id": "6cfe47ee",
   "metadata": {},
   "source": [
    "**BART** est un auto-encodeur de dé bruitage pour le pré-entraînement des modèles séquence à séquence. Il est entraîné en (1) corrompant le texte avec une fonction de bruit arbitraire et (2) en apprenant un modèle pour reconstruire le texte original. Il utilise une architecture standard de traduction automatique neuronale basée sur Transformer. Il utilise une architecture standard seq2seq/NMT avec un encodeur bidirectionnel (comme **BERT**) et un décodeur de gauche à droite (comme **GPT**). Cela signifie que le masque d'attention du codeur est entièrement visible, comme **BERT**, et que le masque d'attention du décodeur est causal, comme **GPT2**."
   ]
  },
  {
   "cell_type": "code",
   "execution_count": 30,
   "id": "8201828d",
   "metadata": {},
   "outputs": [],
   "source": [
    "# Importing the model\n",
    "from transformers import BartForConditionalGeneration, BartTokenizer, BartConfig"
   ]
  },
  {
   "cell_type": "code",
   "execution_count": 31,
   "id": "565be3ea",
   "metadata": {},
   "outputs": [],
   "source": [
    "# Loading the model and tokenizer for bart-large-cnn\n",
    "tokenizer=BartTokenizer.from_pretrained('facebook/bart-large-cnn')\n",
    "model=BartForConditionalGeneration.from_pretrained('facebook/bart-large-cnn')"
   ]
  },
  {
   "cell_type": "code",
   "execution_count": 32,
   "id": "ccc8b5cb",
   "metadata": {},
   "outputs": [],
   "source": [
    "# Encoding the inputs and passing them to model.generate()\n",
    "inputs = tokenizer.batch_encode_plus([original_text],return_tensors='pt')\n",
    "summary_ids = model.generate(inputs['input_ids'], early_stopping=True)"
   ]
  },
  {
   "cell_type": "code",
   "execution_count": 33,
   "id": "e32fc482",
   "metadata": {},
   "outputs": [
    {
     "name": "stdout",
     "output_type": "stream",
     "text": [
      "Junk foods taste good that’s why it is mostly liked by everyone of any age group especially kids and school going children. They generally ask for the junk food daily because they have been trend so by their parents from the childhood. According to the research by scientists, it has been found that junk foods have negative effects on the health.\n"
     ]
    }
   ],
   "source": [
    "# Decoding and printing the summary\n",
    "bart_summary = tokenizer.decode(summary_ids[0], skip_special_tokens=True)\n",
    "print(bart_summary)"
   ]
  },
  {
   "cell_type": "code",
   "execution_count": null,
   "id": "09f5f502",
   "metadata": {},
   "outputs": [],
   "source": []
  }
 ],
 "metadata": {
  "kernelspec": {
   "display_name": "Python 3",
   "language": "python",
   "name": "python3"
  },
  "language_info": {
   "codemirror_mode": {
    "name": "ipython",
    "version": 3
   },
   "file_extension": ".py",
   "mimetype": "text/x-python",
   "name": "python",
   "nbconvert_exporter": "python",
   "pygments_lexer": "ipython3",
   "version": "3.8.8"
  }
 },
 "nbformat": 4,
 "nbformat_minor": 5
}
